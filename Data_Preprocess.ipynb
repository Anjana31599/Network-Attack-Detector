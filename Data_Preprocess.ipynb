{
 "cells": [
  {
   "cell_type": "code",
   "execution_count": 2,
   "id": "db9680a3",
   "metadata": {},
   "outputs": [
    {
     "name": "stdout",
     "output_type": "stream",
     "text": [
      "Requirement already satisfied: scapy in c:\\users\\anjan\\anaconda3\\lib\\site-packages (2.5.0)\n"
     ]
    }
   ],
   "source": [
    "!pip install scapy"
   ]
  },
  {
   "cell_type": "code",
   "execution_count": null,
   "id": "0bde85a1",
   "metadata": {},
   "outputs": [],
   "source": []
  },
  {
   "cell_type": "code",
   "execution_count": 3,
   "id": "f551a5e4",
   "metadata": {},
   "outputs": [],
   "source": [
    "filter_condition_MITM = \"(eth_src == 'f0:18:98:5e:ff:9f' | eth_dst == 'f0:18:98:5e:ff:9f') & ((((ip_src == '192.168.0.16') & (ip_dst == '192.168.0.13')) | ((ip_src == '192.168.0.13') & (ip_dst == '192.168.0.16'))) & (icmp=='0') & tcp==1) | ((arp_src_mac == 'f0:18:98:5e:ff:9f') & ((arp_dst_mac == 'bc:1c:81:4b:ae:ba') | (arp_dst_mac == '48:4b:aa:2c:d8:f9')))\"\n",
    "filter_condition_DOS= \"(tcp_flags_syn==1 & ip_dst == '192.168.0.24' & tcp_dport==19604 & tcp==1)\"\n",
    "filter_condition_Scanning=\"(((eth_src == 'f0:18:98:5e:ff:9f' & arp==1 & eth_dst == 'ff:ff:ff:ff:ff:ff') and framenumber < 13000) | (ip_src == '192.168.0.15' & ip_dst == '192.168.0.13' & ((tcp_flags_syn==1 & tcp_window==1024) or tcp_flag_reset == 1) ))\"\n",
    "filter_condition_Mirai_Botnet=\"ip_dst == '210.89.164.90'\"\n",
    "filter_condition_Normal=\"\""
   ]
  },
  {
   "cell_type": "code",
   "execution_count": null,
   "id": "e0aa667b",
   "metadata": {},
   "outputs": [
    {
     "name": "stderr",
     "output_type": "stream",
     "text": [
      "WARNING: No libpcap provider available ! pcap won't be used\n"
     ]
    },
    {
     "name": "stdout",
     "output_type": "stream",
     "text": [
      "137396\n"
     ]
    }
   ],
   "source": [
    "from scapy.all import *\n",
    "import warnings\n",
    "warnings.filterwarnings(\"ignore\")\n",
    "import pandas as pd\n",
    "def build_dict(file,filter_condition,label,filename):\n",
    "   \n",
    "    \n",
    "    #create empty record so we will have all features presented\n",
    "    #even if they might exclude each other like UDP or TCP\n",
    "    record1 = {}\n",
    "    for feat in ['eth_dst','eth_src','eth_type','ip_version','ip_ihl','ip_tos','ip_len','ip_id','ip_flags','arp_src_ipv4','arp_dst_ipv4',\n",
    "                 'arp_src_mac','arp_dst_mac','ip_frag','ip_ttl','ip_proto','ip_chksum','ip_src','ip_dst','udp_sport','udp_dport',\n",
    "                 'udp_len','udp_chksum','icmp','tcp','tcp_sport','tcp_flags_syn','tcp_dport','tcp_seq','tcp_ack','tcp_dataofs','tcp_reserved',\n",
    "                 'tcp_flags','tcp_window','tcp_chksum','tcp_urgptr','framenumber','arp','tcp_flag_reset','target']:\n",
    "        record1[feat] = -1\n",
    "    \n",
    "    pcap = rdpcap(file)\n",
    "    print(len(pcap))\n",
    "    #filter_condition = \"(eth_src == 'f0:18:98:5e:ff:9f' | eth_dst == 'f0:18:98:5e:ff:9f') & ((((ip_src == '192.168.0.16') & (ip_dst == '192.168.0.13')) | ((ip_src == '192.168.0.13') & (ip_dst == '192.168.0.16'))) & (icmp=='0') & tcp==1) | ((arp_src_mac == 'f0:18:98:5e:ff:9f') & ((arp_dst_mac == 'bc:1c:81:4b:ae:ba') | (arp_dst_mac == '48:4b:aa:2c:d8:f9')))\"\n",
    "\n",
    "    \n",
    "    df = pd.DataFrame()\n",
    "    CNT = [0]\n",
    "    coun=0\n",
    "    for pkt in pcap:\n",
    "        \n",
    "            record = record1\n",
    "            record['target']=label\n",
    "           \n",
    "            if pkt.haslayer('frame_info'):\n",
    "                # Extract the frame number from the frame_info attribute\n",
    "                record['framenumber'] = pkt.frame_info.number\n",
    "                \n",
    "            if pkt.haslayer(Ether):\n",
    "                record['eth_dst'] = pkt[Ether].dst\n",
    "                record['eth_src'] = pkt[Ether].src\n",
    "                record['eth_type'] = pkt[Ether].type\n",
    "                \n",
    "            if pkt.haslayer(IP):\n",
    "                record['ip_version'] = pkt[IP].version\n",
    "                record['ip_ihl'] = pkt[IP].ihl\n",
    "                record['ip_tos'] = pkt[IP].tos\n",
    "                record['ip_len'] = pkt[IP].len\n",
    "                record['ip_id'] = pkt[IP].id\n",
    "                record['ip_flags'] = pkt[IP].flags\n",
    "                record['ip_frag'] = pkt[IP].frag\n",
    "                record['ip_ttl'] = pkt[IP].ttl\n",
    "                record['ip_proto'] = pkt[IP].proto\n",
    "                record['ip_chksum'] = pkt[IP].chksum\n",
    "                record['ip_src'] = pkt[IP].src\n",
    "                record['ip_dst'] = pkt[IP].dst\n",
    "                \n",
    "                \n",
    "            if pkt.haslayer(UDP):\n",
    "                record['udp_sport'] = pkt[UDP].sport \n",
    "                record['udp_dport'] = pkt[UDP].dport\n",
    "                record['udp_len'] = pkt[UDP].len\n",
    "                record['udp_chksum'] = pkt[UDP].chksum\n",
    "            \n",
    "                \n",
    "            if pkt.haslayer(ICMP):\n",
    "                record['icmp'] = 1\n",
    "            \n",
    "            if pkt.haslayer(ARP):\n",
    "                arp_layer = pkt[ARP]\n",
    "                record['arp'] = 1\n",
    "                record['arp_src_ipv4'] = arp_layer.psrc\n",
    "                record['arp_dst_ipv4'] = arp_layer.pdst\n",
    "                record['arp_src_mac'] = arp_layer.hwsrc\n",
    "                record['arp_dst_mac'] = arp_layer.hwdst\n",
    "                \n",
    "                \n",
    "            if pkt.haslayer(TCP):\n",
    "                if pkt[TCP].haslayer(Raw):\n",
    "                    record['tcp']=1\n",
    "                record['tcp_sport'] = pkt[TCP].sport\n",
    "                record['tcp_dport'] = pkt[TCP].dport\n",
    "                record['tcp_seq'] = pkt[TCP].seq\n",
    "                record['tcp_ack'] = pkt[TCP].ack\n",
    "                record['tcp_dataofs'] = pkt[TCP].dataofs\n",
    "                record['tcp_reserved'] = pkt[TCP].reserved\n",
    "                record['tcp_flags'] = pkt[TCP].flags\n",
    "                if(pkt[TCP].flags.S):\n",
    "                    record['tcp_flags_syn'] =1\n",
    "                record['tcp_window'] = pkt[TCP].window\n",
    "                record['tcp_chksum'] = pkt[TCP].chksum\n",
    "                record['tcp_urgptr'] = pkt[TCP].urgptr\n",
    "                if(pkt[TCP].flags.R):\n",
    "                    record['tcp_flag_reset'] =1\n",
    "            '''new = pd.DataFrame()\n",
    "            new = new.append(record,ignore_index=True)\n",
    "            result=(new.query(filter_condition))\n",
    "            \n",
    "            if(len(result)>0):\n",
    "                coun=coun+1\n",
    "                print(coun)\n",
    "                df = df.append(record,ignore_index=True)'''\n",
    "            \n",
    "            df = df.append(record,ignore_index=True)\n",
    "                \n",
    "\n",
    "    df.to_csv(filename)\n",
    "    \n",
    "    return df\n",
    "\n",
    "packets = build_dict('Dataset/benign-dec.pcap',filter_condition_Normal,\"BENIGN\",\"CSVFile/BENIGN.csv\")"
   ]
  },
  {
   "cell_type": "code",
   "execution_count": null,
   "id": "420c9ae9",
   "metadata": {},
   "outputs": [],
   "source": [
    "packets1 = packets.head(10000)\n",
    "packets1.to_csv(\"CSVFile/BENIGN.csv\")"
   ]
  },
  {
   "cell_type": "code",
   "execution_count": null,
   "id": "98a59d1a",
   "metadata": {},
   "outputs": [],
   "source": [
    "packets.to_csv(\"BENIGN.csv\")"
   ]
  },
  {
   "cell_type": "code",
   "execution_count": null,
   "id": "65bc511b",
   "metadata": {},
   "outputs": [],
   "source": []
  }
 ],
 "metadata": {
  "kernelspec": {
   "display_name": "Python 3 (ipykernel)",
   "language": "python",
   "name": "python3"
  },
  "language_info": {
   "codemirror_mode": {
    "name": "ipython",
    "version": 3
   },
   "file_extension": ".py",
   "mimetype": "text/x-python",
   "name": "python",
   "nbconvert_exporter": "python",
   "pygments_lexer": "ipython3",
   "version": "3.9.12"
  }
 },
 "nbformat": 4,
 "nbformat_minor": 5
}
